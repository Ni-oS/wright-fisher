{
 "cells": [
  {
   "cell_type": "code",
   "execution_count": 1,
   "metadata": {},
   "outputs": [],
   "source": [
    "%matplotlib inline \n",
    "import numpy as np \n",
    "import matplotlib.pyplot as plt "
   ]
  },
  {
   "cell_type": "code",
   "execution_count": 59,
   "metadata": {},
   "outputs": [],
   "source": [
    "class population:\n",
    "    def __init__(self, nInd, p0): # nInd - Number of Individuals, p0 - start probability\n",
    "        self.p0 = p0\n",
    "        self.nInd = nInd\n",
    "        self.initial_population = np.zeros(nInd) \n",
    "        #self.initial_population[0 : int(p0*self.nInd)] = 1\n",
    "        self.initial_population[nInd-1] = 1\n",
    "        return\n",
    "        \n",
    "    def generation(self):\n",
    "        count = 0\n",
    "        for i in self.initial_population:\n",
    "            if i>0: count+=1\n",
    "        if count == 0 or count == self.nInd:return #exit if nothing happend\n",
    "        p1 = (self.p0 + 1)*count/((self.p0 + 1)*count + self.nInd - count)# only formula from lection\n",
    "        \n",
    "        p1 = {0:(1 - p1)/(self.nInd - count), 1:p1/count} #dictionary\n",
    "\n",
    "        p2 = []\n",
    "        for i in self.initial_population:\n",
    "            p2.append(p1[i])\n",
    "\n",
    "        generated = np.random.choice(self.initial_population, size = self.nInd, p = p2)\n",
    "        self.initial_population = generated\n",
    "        return\n",
    "    \n",
    "    def is_it_started(self):\n",
    "        count = 0\n",
    "        for i in self.initial_population:\n",
    "            if i > 0: return 1\n",
    "        return 0"
   ]
  },
  {
   "cell_type": "code",
   "execution_count": 60,
   "metadata": {},
   "outputs": [],
   "source": [
    "nInd = 100 # initial population size (number of individuals)\n",
    "nGen = 100 # number of generations to simulate\n",
    "nRuns = 100"
   ]
  },
  {
   "cell_type": "code",
   "execution_count": 61,
   "metadata": {},
   "outputs": [],
   "source": [
    "p0 = np.arange(0, 0.1, 0.001) # initial proportion of \"1\" alleles "
   ]
  },
  {
   "cell_type": "code",
   "execution_count": 62,
   "metadata": {},
   "outputs": [],
   "source": [
    "history = []\n",
    "for i in p0:\n",
    "    generate = [population(nInd, i) for j in range(nRuns)]\n",
    "    for gen in generate:\n",
    "        for s in range(nGen):\n",
    "            gen.generation()\n",
    "    count = sum([gen.is_it_started() for gen in generate])\n",
    "    history += [count/nRuns]"
   ]
  },
  {
   "cell_type": "code",
   "execution_count": 72,
   "metadata": {},
   "outputs": [
    {
     "data": {
      "image/png": "[encoded data removed]",
      "text/plain": [
       "<Figure size 432x288 with 1 Axes>"
      ]
     },
     "metadata": {
      "needs_background": "light"
     },
     "output_type": "display_data"
    }
   ],
   "source": [
    "plt.plot(p0, history,\"o\")\n",
    "plt.plot(p0,2*p0,\"g\")\n",
    "plt.plot(p0,[1/nInd]*len(p0))\n",
    "plt.title(\"selection coefficient from fixation probability\")\n",
    "plt.xlabel(\"s\")\n",
    "plt.ylabel(\"P(fix)\")\n",
    "plt.show()"
   ]
  },
  {
   "cell_type": "code",
   "execution_count": null,
   "metadata": {},
   "outputs": [],
   "source": []
  }
 ],
 "metadata": {
  "kernelspec": {
   "display_name": "Python 3",
   "language": "python",
   "name": "python3"
  },
  "language_info": {
   "codemirror_mode": {
    "name": "ipython",
    "version": 3
   },
   "file_extension": ".py",
   "mimetype": "text/x-python",
   "name": "python",
   "nbconvert_exporter": "python",
   "pygments_lexer": "ipython3",
   "version": "3.8.8"
  }
 },
 "nbformat": 4,
 "nbformat_minor": 1
}
